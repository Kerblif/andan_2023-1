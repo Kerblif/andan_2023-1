{
 "cells": [
  {
   "attachments": {},
   "cell_type": "markdown",
   "id": "911da6e0",
   "metadata": {},
   "source": [
    "<center>\n",
    "<img src=\"https://i.ibb.co/Ycs11Fg/meme.jpg\">\n",
    "</center>\n",
    "\n",
    "# Андан на экономе: домашнее задание 3\n",
    "## Задача классификации"
   ]
  },
  {
   "attachments": {},
   "cell_type": "markdown",
   "id": "c2e40eb8",
   "metadata": {},
   "source": [
    "**ФИО:**\n"
   ]
  },
  {
   "attachments": {},
   "cell_type": "markdown",
   "id": "1cfbbcc0",
   "metadata": {},
   "source": [
    "## Общая информация\n",
    "\n",
    "\n",
    "__Дата выдачи:__ 14.04.2023\n",
    "\n",
    "__Мягкий дедлайн:__ 23:59MSK 07.05.2023\n",
    "\n",
    "__Жесткий дедлайн:__ 23:59MSK 14.05.2023"
   ]
  },
  {
   "attachments": {},
   "cell_type": "markdown",
   "id": "8d84cd39",
   "metadata": {},
   "source": [
    "## Оценивание и штрафы\n",
    "\n",
    "Каждая из задач имеет определенную «стоимость» (указана в скобках около задачи). Максимально допустимая оценка за работу — 100 баллов. За каждый день просрочки после мягкого дедлайна снимается 10 баллов. После жёсткого дедлайна работы не принимаются. Даже при опозданиии на одну секунду. Сдавайте работы заранее.\n",
    "\n",
    "Мягкий дедлайн можно отодвинуть без потери баллов на 1,2 или 3 дня. Суммарно для откладывания в запасе есть три дня. Можно отодвинуть один дедлайн на три дня, а можно три дедлайна подвинуть на один день. Распоряжаться этими днями студент может как угодно. Жёсткий дедлайн, при этом, не меняется. Если такое произошло, нужно сообщить о сдвиге при сдаче работы.\n",
    "\n",
    "Задание выполняется самостоятельно. «Похожие» решения считаются плагиатом и все задействованные студенты (в том числе те, у кого списали) не могут получить за него больше 0 баллов. Если вы нашли решение какого-то из заданий (или его часть) в открытом источнике, необходимо указать ссылку на этот источник (скорее всего вы будете не единственным, кто это нашел, поэтому чтобы исключить подозрение в плагиате, необходима ссылка на источник).\n",
    "\n",
    "Любой из студентов может быть вызван на защиту любого домашнего задания. В таком случае итоговая оценка студента определяется в результате защиты.\n",
    "\n",
    "> За отсутствие названий графиков и подписей к осям могут снижаться баллы. Все картинки должны быть самодостаточны и визуально удобны для восприятия, так чтобы не нужно было смотреть ваш код или знать задание, чтобы понять что на них изображено. \n",
    "\n",
    "> Выводы должны быть релевантными. Не забывайте их писать. Если в вопросе требуется ответ словами, а его нет, вы будете терять довольно много баллов.\n",
    "\n",
    "> Фиксируйте все seed'ы, random_state'ы и тд - ваш код должен быть воспроизводим с теми же результатами."
   ]
  },
  {
   "attachments": {},
   "cell_type": "markdown",
   "id": "9c9727df",
   "metadata": {},
   "source": [
    "## Формат сдачи\n",
    "\n",
    "Сам ноутбук называйте в формате hw-03-USERNAME.ipynb, где USERNAME — ваши фамилия и имя. Файл сдаётся в anytask."
   ]
  },
  {
   "attachments": {},
   "cell_type": "markdown",
   "id": "7b55058a",
   "metadata": {},
   "source": [
    "## Импорт необходимых библиотек "
   ]
  },
  {
   "attachments": {},
   "cell_type": "markdown",
   "id": "f7deb1cc",
   "metadata": {},
   "source": [
    "Импортируйте все используемые библиотеки здесь."
   ]
  },
  {
   "cell_type": "code",
   "execution_count": 1,
   "id": "9311e523",
   "metadata": {},
   "outputs": [],
   "source": [
    "import numpy as np\n",
    "import pandas as pd\n",
    "\n",
    "import matplotlib.pyplot as plt\n",
    "\n",
    "import random\n",
    "\n",
    "random.seed(0)\n",
    "\n",
    "# Отключение некоторых лишних предупреждений\n",
    "import warnings\n",
    "warnings.filterwarnings(\"ignore\")\n",
    "\n",
    "from sklearn.model_selection import train_test_split\n",
    "\n",
    "from sklearn.linear_model import LinearRegression, LogisticRegression\n",
    "from sklearn.metrics import mean_squared_error\n",
    "\n",
    "from sklearn.metrics import roc_auc_score\n",
    "from sklearn.metrics import accuracy_score\n",
    "\n",
    "from sklearn.metrics import precision_score, recall_score\n",
    "\n",
    "from sklearn import preprocessing\n",
    "from sklearn.model_selection import cross_val_score\n",
    "from sklearn.model_selection import GridSearchCV\n",
    "from sklearn import svm"
   ]
  },
  {
   "attachments": {},
   "cell_type": "markdown",
   "id": "8e5cf1b8",
   "metadata": {},
   "source": [
    "## Задача "
   ]
  },
  {
   "attachments": {},
   "cell_type": "markdown",
   "id": "c6f6920e",
   "metadata": {},
   "source": [
    "В данном задании вам необходимо построить предсказательную модель, определяющую пол клиента по его банковским транзакциям.\n",
    "\n",
    "Вам доступны 2 файла:\n",
    "* __transaction.csv__ - файл с транзакциями, колонки:\n",
    "    * user_id - целочисленный идентификатор пользователя\n",
    "    * dt - дата и время совершения транзации, принцип кодирования: \"DAY TIME\"\n",
    "        * DAY - порядковый день транзации с начала сбора данных\n",
    "        * TIME - время в формате hh:mm:ss\n",
    "    * type - тип (категория) совершаемой транзакции\n",
    "    * value - сумма транзакции\n",
    "    \n",
    "* __gender.csv__ - файл с данными о полах клиентов.\n",
    "    * user_id - целочисленный идентификатор пользователя\n",
    "    * gender - целевая переменная, закодированная лейблами 0 и 1. Это сделано:\n",
    "        * a) для удобства\n",
    "        * б) для избежания холиваров о правильности исходных меток \n",
    "\n",
    "Но если вы вдруг захотите похоливарить о том, что метки только две - то заметьте, что о полноте данных мы тоже не утверждаем."
   ]
  },
  {
   "attachments": {},
   "cell_type": "markdown",
   "id": "56da0228",
   "metadata": {},
   "source": [
    "# Часть 1: минималочка [макс 20 баллов]"
   ]
  },
  {
   "attachments": {},
   "cell_type": "markdown",
   "id": "cb568469",
   "metadata": {},
   "source": [
    "В этой части мы с вами попробуем построить самую простую модель для предсказания.\n",
    "\n",
    "Как мы с вами увидим: главная сложность - правильная подготовка данных. В таких задачах то, как именно вы преобразуете данные для обучения модели и будет во много определять её качество.\n",
    "\n",
    "В этой части мы сделаем простое преобразование данных путём простой агрегации данных о величине транзакций. "
   ]
  },
  {
   "attachments": {},
   "cell_type": "markdown",
   "id": "3d8c2bf8",
   "metadata": {},
   "source": [
    "## Загрузка данных [5 баллов] "
   ]
  },
  {
   "attachments": {},
   "cell_type": "markdown",
   "id": "b324b6bb",
   "metadata": {},
   "source": [
    "Скачайте данные для задачи с Яндекс.Диска:\n",
    "https://disk.yandex.ru/d/DGy6bbLaMZmrQg.\n",
    "\n",
    "Загрузите файлы с транзакциями и целевой меткой в pd.DataFrame.\n",
    "\n",
    "__Внимание__: у файла transactions.csv колоночный разделитель - точка с запятой \";\""
   ]
  },
  {
   "cell_type": "code",
   "execution_count": 2,
   "id": "12a08af9",
   "metadata": {},
   "outputs": [],
   "source": [
    "df_gender = pd.read_csv('data/gender.csv', sep=',')\n",
    "df_transactions = pd.read_csv('data/transactions.csv', sep=';')"
   ]
  },
  {
   "cell_type": "code",
   "execution_count": 3,
   "id": "55530cd9",
   "metadata": {},
   "outputs": [
    {
     "data": {
      "text/html": [
       "<div>\n",
       "<style scoped>\n",
       "    .dataframe tbody tr th:only-of-type {\n",
       "        vertical-align: middle;\n",
       "    }\n",
       "\n",
       "    .dataframe tbody tr th {\n",
       "        vertical-align: top;\n",
       "    }\n",
       "\n",
       "    .dataframe thead th {\n",
       "        text-align: right;\n",
       "    }\n",
       "</style>\n",
       "<table border=\"1\" class=\"dataframe\">\n",
       "  <thead>\n",
       "    <tr style=\"text-align: right;\">\n",
       "      <th></th>\n",
       "      <th>user_id</th>\n",
       "      <th>gender</th>\n",
       "    </tr>\n",
       "  </thead>\n",
       "  <tbody>\n",
       "    <tr>\n",
       "      <th>0</th>\n",
       "      <td>6740969</td>\n",
       "      <td>1.0</td>\n",
       "    </tr>\n",
       "    <tr>\n",
       "      <th>1</th>\n",
       "      <td>36599781</td>\n",
       "      <td>0.0</td>\n",
       "    </tr>\n",
       "    <tr>\n",
       "      <th>2</th>\n",
       "      <td>91453656</td>\n",
       "      <td>1.0</td>\n",
       "    </tr>\n",
       "    <tr>\n",
       "      <th>3</th>\n",
       "      <td>17431962</td>\n",
       "      <td>1.0</td>\n",
       "    </tr>\n",
       "    <tr>\n",
       "      <th>4</th>\n",
       "      <td>72568668</td>\n",
       "      <td>1.0</td>\n",
       "    </tr>\n",
       "  </tbody>\n",
       "</table>\n",
       "</div>"
      ],
      "text/plain": [
       "    user_id  gender\n",
       "0   6740969     1.0\n",
       "1  36599781     0.0\n",
       "2  91453656     1.0\n",
       "3  17431962     1.0\n",
       "4  72568668     1.0"
      ]
     },
     "execution_count": 3,
     "metadata": {},
     "output_type": "execute_result"
    }
   ],
   "source": [
    "df_gender.head()"
   ]
  },
  {
   "cell_type": "code",
   "execution_count": 4,
   "id": "0574a8bb",
   "metadata": {},
   "outputs": [
    {
     "data": {
      "text/html": [
       "<div>\n",
       "<style scoped>\n",
       "    .dataframe tbody tr th:only-of-type {\n",
       "        vertical-align: middle;\n",
       "    }\n",
       "\n",
       "    .dataframe tbody tr th {\n",
       "        vertical-align: top;\n",
       "    }\n",
       "\n",
       "    .dataframe thead th {\n",
       "        text-align: right;\n",
       "    }\n",
       "</style>\n",
       "<table border=\"1\" class=\"dataframe\">\n",
       "  <thead>\n",
       "    <tr style=\"text-align: right;\">\n",
       "      <th></th>\n",
       "      <th>user_id</th>\n",
       "      <th>dt</th>\n",
       "      <th>type</th>\n",
       "      <th>value</th>\n",
       "    </tr>\n",
       "  </thead>\n",
       "  <tbody>\n",
       "    <tr>\n",
       "      <th>0</th>\n",
       "      <td>39026145</td>\n",
       "      <td>0 10:23:26</td>\n",
       "      <td>Звонки с использованием телефонов, считывающих...</td>\n",
       "      <td>2695.099</td>\n",
       "    </tr>\n",
       "    <tr>\n",
       "      <th>1</th>\n",
       "      <td>39026145</td>\n",
       "      <td>6 07:08:31</td>\n",
       "      <td>Звонки с использованием телефонов, считывающих...</td>\n",
       "      <td>2358.212</td>\n",
       "    </tr>\n",
       "    <tr>\n",
       "      <th>2</th>\n",
       "      <td>39026145</td>\n",
       "      <td>8 07:06:10</td>\n",
       "      <td>Звонки с использованием телефонов, считывающих...</td>\n",
       "      <td>2807.395</td>\n",
       "    </tr>\n",
       "    <tr>\n",
       "      <th>3</th>\n",
       "      <td>39026145</td>\n",
       "      <td>11 08:49:03</td>\n",
       "      <td>Звонки с использованием телефонов, считывающих...</td>\n",
       "      <td>2695.099</td>\n",
       "    </tr>\n",
       "    <tr>\n",
       "      <th>4</th>\n",
       "      <td>39026145</td>\n",
       "      <td>11 14:12:08</td>\n",
       "      <td>Звонки с использованием телефонов, считывающих...</td>\n",
       "      <td>2695.099</td>\n",
       "    </tr>\n",
       "  </tbody>\n",
       "</table>\n",
       "</div>"
      ],
      "text/plain": [
       "    user_id           dt                                               type  \\\n",
       "0  39026145   0 10:23:26  Звонки с использованием телефонов, считывающих...   \n",
       "1  39026145   6 07:08:31  Звонки с использованием телефонов, считывающих...   \n",
       "2  39026145   8 07:06:10  Звонки с использованием телефонов, считывающих...   \n",
       "3  39026145  11 08:49:03  Звонки с использованием телефонов, считывающих...   \n",
       "4  39026145  11 14:12:08  Звонки с использованием телефонов, считывающих...   \n",
       "\n",
       "      value  \n",
       "0  2695.099  \n",
       "1  2358.212  \n",
       "2  2807.395  \n",
       "3  2695.099  \n",
       "4  2695.099  "
      ]
     },
     "execution_count": 4,
     "metadata": {},
     "output_type": "execute_result"
    }
   ],
   "source": [
    "df_transactions.head()"
   ]
  },
  {
   "attachments": {},
   "cell_type": "markdown",
   "id": "ad3a83c9",
   "metadata": {},
   "source": [
    "## Подготовка данных [10 баллов] \n",
    "\n",
    "Для данной задачи необходимо как-то собрать данные для каждого пользователя в один вектор (строку таблицы). Сейчас, как вы можете увидеть, в таблице с данными одному пользователю может соответствовать много строк (каждая операция - отдельная строка).\n",
    "\n",
    "Таким образом, необходима агрегация данных - это можно сделать множеством разных способов."
   ]
  },
  {
   "attachments": {},
   "cell_type": "markdown",
   "id": "567817e8",
   "metadata": {},
   "source": [
    "### Агрегация "
   ]
  },
  {
   "attachments": {},
   "cell_type": "markdown",
   "id": "e3c812ef",
   "metadata": {},
   "source": [
    "Произведите простую агрегацию данных и для каждого пользователя в качестве признаков получите сумму, среднее и стандартное отклонение величины его транзакций. \n",
    "\n",
    "Так же добавите для каждого пользователя колонку с таргетом.\n",
    "\n",
    "По итогу вы должны получить таблицу с колонками:\n",
    "* user_id\n",
    "* value_sum\n",
    "* value_mean\n",
    "* value_std\n",
    "* gender"
   ]
  },
  {
   "cell_type": "code",
   "execution_count": 5,
   "id": "fae2c4e0",
   "metadata": {},
   "outputs": [
    {
     "data": {
      "text/html": [
       "<div>\n",
       "<style scoped>\n",
       "    .dataframe tbody tr th:only-of-type {\n",
       "        vertical-align: middle;\n",
       "    }\n",
       "\n",
       "    .dataframe tbody tr th {\n",
       "        vertical-align: top;\n",
       "    }\n",
       "\n",
       "    .dataframe thead th {\n",
       "        text-align: right;\n",
       "    }\n",
       "</style>\n",
       "<table border=\"1\" class=\"dataframe\">\n",
       "  <thead>\n",
       "    <tr style=\"text-align: right;\">\n",
       "      <th></th>\n",
       "      <th>user_id</th>\n",
       "      <th>gender</th>\n",
       "      <th>value_mean</th>\n",
       "      <th>value_sum</th>\n",
       "      <th>value_std</th>\n",
       "    </tr>\n",
       "  </thead>\n",
       "  <tbody>\n",
       "    <tr>\n",
       "      <th>0</th>\n",
       "      <td>6740969</td>\n",
       "      <td>1.0</td>\n",
       "      <td>2171.247582</td>\n",
       "      <td>996602.640</td>\n",
       "      <td>718.691164</td>\n",
       "    </tr>\n",
       "    <tr>\n",
       "      <th>1</th>\n",
       "      <td>36599781</td>\n",
       "      <td>0.0</td>\n",
       "      <td>2175.420475</td>\n",
       "      <td>2227630.566</td>\n",
       "      <td>645.511317</td>\n",
       "    </tr>\n",
       "    <tr>\n",
       "      <th>2</th>\n",
       "      <td>91453656</td>\n",
       "      <td>1.0</td>\n",
       "      <td>2363.186310</td>\n",
       "      <td>137064.806</td>\n",
       "      <td>684.686030</td>\n",
       "    </tr>\n",
       "    <tr>\n",
       "      <th>3</th>\n",
       "      <td>17431962</td>\n",
       "      <td>1.0</td>\n",
       "      <td>2118.185941</td>\n",
       "      <td>1112047.619</td>\n",
       "      <td>717.894125</td>\n",
       "    </tr>\n",
       "    <tr>\n",
       "      <th>4</th>\n",
       "      <td>72568668</td>\n",
       "      <td>1.0</td>\n",
       "      <td>1974.752011</td>\n",
       "      <td>533183.043</td>\n",
       "      <td>745.930038</td>\n",
       "    </tr>\n",
       "  </tbody>\n",
       "</table>\n",
       "</div>"
      ],
      "text/plain": [
       "    user_id  gender   value_mean    value_sum   value_std\n",
       "0   6740969     1.0  2171.247582   996602.640  718.691164\n",
       "1  36599781     0.0  2175.420475  2227630.566  645.511317\n",
       "2  91453656     1.0  2363.186310   137064.806  684.686030\n",
       "3  17431962     1.0  2118.185941  1112047.619  717.894125\n",
       "4  72568668     1.0  1974.752011   533183.043  745.930038"
      ]
     },
     "execution_count": 5,
     "metadata": {},
     "output_type": "execute_result"
    }
   ],
   "source": [
    "df_transactions_users = df_transactions.groupby(\"user_id\")[\"value\"]\n",
    "\n",
    "tmp_mean = df_transactions_users.mean()\n",
    "tmp_mean.name = \"value_mean\"\n",
    "tmp_sum = df_transactions_users.sum()\n",
    "tmp_sum.name = \"value_sum\"\n",
    "tmp_std = df_transactions_users.std()\n",
    "tmp_std.name = \"value_std\"\n",
    "\n",
    "df_agregate = df_gender.merge(tmp_mean, on=\"user_id\").merge(tmp_sum, on=\"user_id\").merge(tmp_std, on=\"user_id\")\n",
    "df_agregate.head()"
   ]
  },
  {
   "attachments": {},
   "cell_type": "markdown",
   "id": "194e73a7",
   "metadata": {},
   "source": [
    "### Отложенная выборка "
   ]
  },
  {
   "attachments": {},
   "cell_type": "markdown",
   "id": "d3f431ee",
   "metadata": {},
   "source": [
    "Получите полный список пользователей и разделите их на два списка:\n",
    "* тренировочный список пользователей (80%)\n",
    "* тестовый список пользователей (20%)"
   ]
  },
  {
   "attachments": {},
   "cell_type": "markdown",
   "id": "646a73cf",
   "metadata": {},
   "source": [
    "__Важное замечание__: Далее во всех пунктах, где вам нужно провалидировать (оценить) получившуюся модель исползуйте данные только для этих тестовых пользователей.\n",
    "\n",
    "Обучать все модели, естественно, нужно только на данных пользователей из обучающего списка."
   ]
  },
  {
   "cell_type": "code",
   "execution_count": 6,
   "id": "a74ea5aa",
   "metadata": {},
   "outputs": [],
   "source": [
    "train_df, test_df = train_test_split(df_agregate, test_size=0.2, shuffle=True, random_state=42)\n",
    "train_df = train_df.dropna()\n",
    "test_df = test_df.dropna()"
   ]
  },
  {
   "attachments": {},
   "cell_type": "markdown",
   "id": "c4e54aa8",
   "metadata": {},
   "source": [
    "Для нашей задачи получите признаки и целевые метки обучающей и тестовой выборки. "
   ]
  },
  {
   "cell_type": "code",
   "execution_count": 7,
   "id": "e947e769",
   "metadata": {},
   "outputs": [],
   "source": [
    "X_train = train_df.drop([\"gender\", \"user_id\"], axis=1)\n",
    "y_train = train_df[\"gender\"]\n",
    "\n",
    "X_test = test_df.drop([\"gender\", \"user_id\"], axis=1)\n",
    "y_test = test_df[\"gender\"]"
   ]
  },
  {
   "attachments": {},
   "cell_type": "markdown",
   "id": "852a5e0c",
   "metadata": {},
   "source": [
    "## Обучение и оценка модели [5 баллов] "
   ]
  },
  {
   "attachments": {},
   "cell_type": "markdown",
   "id": "0d3a14bb",
   "metadata": {},
   "source": [
    "Обучите модель логистической регрессии с дефолтными параметрами.\n",
    "\n",
    "Получите предсказания вероятностей первого класса."
   ]
  },
  {
   "cell_type": "code",
   "execution_count": 8,
   "id": "9b458875",
   "metadata": {},
   "outputs": [],
   "source": [
    "model = LinearRegression()\n",
    "\n",
    "model.fit(X_train, y_train)\n",
    "\n",
    "p_train_pred = model.predict(X_train)\n",
    "p_test_pred = model.predict(X_test)\n",
    "\n",
    "y_train_pred = 1*(p_train_pred >= 0.5) \n",
    "y_test_pred = 1*(p_test_pred >= 0.5) "
   ]
  },
  {
   "attachments": {},
   "cell_type": "markdown",
   "id": "f2345148",
   "metadata": {},
   "source": [
    "### Валидация "
   ]
  },
  {
   "attachments": {},
   "cell_type": "markdown",
   "id": "ee3576b3",
   "metadata": {},
   "source": [
    "Посчитайте ROC_AUC, accuracy, precision, recall для получившихся предсказаний.\n",
    "\n",
    "Для метрик, для которых необходимы метки классов, а не вероятности - используйте порог 0.5.\n",
    "\n",
    "Далее при оценки других моделей приводите эти же метрики (если явно не указано иное)."
   ]
  },
  {
   "cell_type": "code",
   "execution_count": 9,
   "id": "434f611a",
   "metadata": {},
   "outputs": [
    {
     "name": "stdout",
     "output_type": "stream",
     "text": [
      "Train metrics:\n",
      "ROC_AUC:  0.565158662358083\n",
      "Accurancy:  0.5676895306859205\n",
      "Precision:  0.5478502080443828\n",
      "Recall:  0.13421678559293237\n",
      "\n",
      "Test metrics:\n",
      "ROC_AUC:  0.543784692430265\n",
      "Accurancy:  0.5502709211318483\n",
      "Precision:  0.5515151515151515\n",
      "Recall:  0.11910994764397906\n"
     ]
    }
   ],
   "source": [
    "print(\"Train metrics:\")\n",
    "print(\"ROC_AUC: \", roc_auc_score(y_train, p_train_pred))\n",
    "print(\"Accurancy: \", accuracy_score(y_train_pred, y_train))\n",
    "print(\"Precision: \", precision_score(y_train, y_train_pred))\n",
    "print(\"Recall: \", recall_score(y_train, y_train_pred))\n",
    "print()\n",
    "print(\"Test metrics:\")\n",
    "print(\"ROC_AUC: \", roc_auc_score(y_test, p_test_pred))\n",
    "print(\"Accurancy: \", accuracy_score(y_test_pred, y_test))\n",
    "print(\"Precision: \", precision_score(y_test, y_test_pred))\n",
    "print(\"Recall: \", recall_score(y_test, y_test_pred))"
   ]
  },
  {
   "attachments": {},
   "cell_type": "markdown",
   "id": "9c06a7c5",
   "metadata": {},
   "source": [
    "### Вывод"
   ]
  },
  {
   "attachments": {},
   "cell_type": "markdown",
   "id": "6e95c3d8",
   "metadata": {},
   "source": [
    "Как вы оцениваете качество получившейся модели и возможные причины такого качества?\n",
    "\n",
    "__Ваш вывод:__"
   ]
  },
  {
   "attachments": {},
   "cell_type": "markdown",
   "id": "e94a47be",
   "metadata": {},
   "source": [
    "# Часть 2: мб сделаем что-то более серьёзное? [макс 20 баллов]"
   ]
  },
  {
   "attachments": {},
   "cell_type": "markdown",
   "id": "6724dd97",
   "metadata": {},
   "source": [
    "Давайте попробуем улучшить качество решения задачи за счёт другого метода подготовки данных.\n",
    "\n",
    "Ранее мы использовали простое преобразование, когда каждый клиент описывался только 3 значениями.\n",
    "Давайте сделаем что-то более сложное и попробуем добавить больше данных о клиенте для модели."
   ]
  },
  {
   "attachments": {},
   "cell_type": "markdown",
   "id": "c5cf8456",
   "metadata": {},
   "source": [
    "## Подготовка данных [15 баллов]"
   ]
  },
  {
   "attachments": {},
   "cell_type": "markdown",
   "id": "d30f62ce",
   "metadata": {},
   "source": [
    "Воспользуемся тем, что каждая транзакция у нас имеет свой тип - это уж точно более информативно, чем агрегация по всем транзакциям.\n",
    "\n",
    "Создайте сводную таблицу, где для каждого клиента (строка) будут указаны его суммарные траты на каждую категорию (столбец). Таким образом, вы должны получить таблицу с числом строк равным количеству клиентов и числом столбцов - количеству категорий трат. Каждая ячейка должна содержать суммарные траты данного клиента в данной категории.\n",
    "\n",
    "__Подсказка__: у DataFrame есть полезный метод `pivot_table`."
   ]
  },
  {
   "cell_type": "code",
   "execution_count": 10,
   "id": "a90e86e4",
   "metadata": {},
   "outputs": [
    {
     "data": {
      "text/html": [
       "<div>\n",
       "<style scoped>\n",
       "    .dataframe tbody tr th:only-of-type {\n",
       "        vertical-align: middle;\n",
       "    }\n",
       "\n",
       "    .dataframe tbody tr th {\n",
       "        vertical-align: top;\n",
       "    }\n",
       "\n",
       "    .dataframe thead th {\n",
       "        text-align: right;\n",
       "    }\n",
       "</style>\n",
       "<table border=\"1\" class=\"dataframe\">\n",
       "  <thead>\n",
       "    <tr style=\"text-align: right;\">\n",
       "      <th></th>\n",
       "      <th>user_id</th>\n",
       "      <th>gender</th>\n",
       "      <th>Авиалинии, авиакомпании</th>\n",
       "      <th>Авиалинии, авиакомпании, нигде более не классифицированные</th>\n",
       "      <th>Автобусные линии</th>\n",
       "      <th>Автозапчасти и аксессуары</th>\n",
       "      <th>Автоматизированные бензозаправки</th>\n",
       "      <th>Автомойки</th>\n",
       "      <th>Автошины</th>\n",
       "      <th>Агентства по автотранспортным перевозкам, местные/дальные автогрузоперевозки, компании попереезду и хранению, местная доставка</th>\n",
       "      <th>...</th>\n",
       "      <th>Фотостудии, фотолаборатории</th>\n",
       "      <th>Химикалии и смежные вещества, не классифицированные ранее</th>\n",
       "      <th>Химчистки</th>\n",
       "      <th>Ценные бумаги: брокеры/дилеры</th>\n",
       "      <th>Центры здоровья</th>\n",
       "      <th>Цифровые товары, игры</th>\n",
       "      <th>Школы — бизнес и секретарей</th>\n",
       "      <th>Штрафы</th>\n",
       "      <th>Штучные товары, галантерея и другие текстильные товары</th>\n",
       "      <th>Электрические части и оборудование</th>\n",
       "    </tr>\n",
       "  </thead>\n",
       "  <tbody>\n",
       "    <tr>\n",
       "      <th>0</th>\n",
       "      <td>6740969</td>\n",
       "      <td>1.0</td>\n",
       "      <td>0.0</td>\n",
       "      <td>0.0</td>\n",
       "      <td>0.0</td>\n",
       "      <td>5158.870</td>\n",
       "      <td>0.0</td>\n",
       "      <td>0.0</td>\n",
       "      <td>0.0</td>\n",
       "      <td>0.0</td>\n",
       "      <td>...</td>\n",
       "      <td>0.0</td>\n",
       "      <td>0.0</td>\n",
       "      <td>0.0</td>\n",
       "      <td>0.0</td>\n",
       "      <td>0.0</td>\n",
       "      <td>0.0</td>\n",
       "      <td>0.0</td>\n",
       "      <td>0.0</td>\n",
       "      <td>0.0</td>\n",
       "      <td>0.0</td>\n",
       "    </tr>\n",
       "    <tr>\n",
       "      <th>1</th>\n",
       "      <td>36599781</td>\n",
       "      <td>0.0</td>\n",
       "      <td>0.0</td>\n",
       "      <td>0.0</td>\n",
       "      <td>0.0</td>\n",
       "      <td>24895.983</td>\n",
       "      <td>0.0</td>\n",
       "      <td>0.0</td>\n",
       "      <td>0.0</td>\n",
       "      <td>0.0</td>\n",
       "      <td>...</td>\n",
       "      <td>0.0</td>\n",
       "      <td>0.0</td>\n",
       "      <td>0.0</td>\n",
       "      <td>0.0</td>\n",
       "      <td>0.0</td>\n",
       "      <td>0.0</td>\n",
       "      <td>0.0</td>\n",
       "      <td>0.0</td>\n",
       "      <td>0.0</td>\n",
       "      <td>0.0</td>\n",
       "    </tr>\n",
       "    <tr>\n",
       "      <th>2</th>\n",
       "      <td>91453656</td>\n",
       "      <td>1.0</td>\n",
       "      <td>0.0</td>\n",
       "      <td>0.0</td>\n",
       "      <td>0.0</td>\n",
       "      <td>0.000</td>\n",
       "      <td>0.0</td>\n",
       "      <td>0.0</td>\n",
       "      <td>0.0</td>\n",
       "      <td>0.0</td>\n",
       "      <td>...</td>\n",
       "      <td>0.0</td>\n",
       "      <td>0.0</td>\n",
       "      <td>0.0</td>\n",
       "      <td>0.0</td>\n",
       "      <td>0.0</td>\n",
       "      <td>0.0</td>\n",
       "      <td>0.0</td>\n",
       "      <td>0.0</td>\n",
       "      <td>0.0</td>\n",
       "      <td>0.0</td>\n",
       "    </tr>\n",
       "    <tr>\n",
       "      <th>3</th>\n",
       "      <td>17431962</td>\n",
       "      <td>1.0</td>\n",
       "      <td>0.0</td>\n",
       "      <td>0.0</td>\n",
       "      <td>0.0</td>\n",
       "      <td>0.000</td>\n",
       "      <td>0.0</td>\n",
       "      <td>0.0</td>\n",
       "      <td>0.0</td>\n",
       "      <td>0.0</td>\n",
       "      <td>...</td>\n",
       "      <td>0.0</td>\n",
       "      <td>0.0</td>\n",
       "      <td>0.0</td>\n",
       "      <td>0.0</td>\n",
       "      <td>0.0</td>\n",
       "      <td>0.0</td>\n",
       "      <td>0.0</td>\n",
       "      <td>0.0</td>\n",
       "      <td>0.0</td>\n",
       "      <td>0.0</td>\n",
       "    </tr>\n",
       "    <tr>\n",
       "      <th>4</th>\n",
       "      <td>72568668</td>\n",
       "      <td>1.0</td>\n",
       "      <td>0.0</td>\n",
       "      <td>0.0</td>\n",
       "      <td>0.0</td>\n",
       "      <td>0.000</td>\n",
       "      <td>0.0</td>\n",
       "      <td>0.0</td>\n",
       "      <td>0.0</td>\n",
       "      <td>0.0</td>\n",
       "      <td>...</td>\n",
       "      <td>0.0</td>\n",
       "      <td>0.0</td>\n",
       "      <td>0.0</td>\n",
       "      <td>0.0</td>\n",
       "      <td>0.0</td>\n",
       "      <td>0.0</td>\n",
       "      <td>0.0</td>\n",
       "      <td>0.0</td>\n",
       "      <td>0.0</td>\n",
       "      <td>0.0</td>\n",
       "    </tr>\n",
       "  </tbody>\n",
       "</table>\n",
       "<p>5 rows × 186 columns</p>\n",
       "</div>"
      ],
      "text/plain": [
       "    user_id  gender  Авиалинии, авиакомпании  \\\n",
       "0   6740969     1.0                      0.0   \n",
       "1  36599781     0.0                      0.0   \n",
       "2  91453656     1.0                      0.0   \n",
       "3  17431962     1.0                      0.0   \n",
       "4  72568668     1.0                      0.0   \n",
       "\n",
       "   Авиалинии, авиакомпании, нигде более не классифицированные  \\\n",
       "0                                                0.0            \n",
       "1                                                0.0            \n",
       "2                                                0.0            \n",
       "3                                                0.0            \n",
       "4                                                0.0            \n",
       "\n",
       "   Автобусные линии  Автозапчасти и аксессуары  \\\n",
       "0               0.0                   5158.870   \n",
       "1               0.0                  24895.983   \n",
       "2               0.0                      0.000   \n",
       "3               0.0                      0.000   \n",
       "4               0.0                      0.000   \n",
       "\n",
       "   Автоматизированные бензозаправки  Автомойки  Автошины  \\\n",
       "0                               0.0        0.0       0.0   \n",
       "1                               0.0        0.0       0.0   \n",
       "2                               0.0        0.0       0.0   \n",
       "3                               0.0        0.0       0.0   \n",
       "4                               0.0        0.0       0.0   \n",
       "\n",
       "   Агентства по автотранспортным перевозкам, местные/дальные автогрузоперевозки, компании попереезду и хранению, местная доставка  \\\n",
       "0                                                0.0                                                                                \n",
       "1                                                0.0                                                                                \n",
       "2                                                0.0                                                                                \n",
       "3                                                0.0                                                                                \n",
       "4                                                0.0                                                                                \n",
       "\n",
       "   ...  Фотостудии, фотолаборатории  \\\n",
       "0  ...                          0.0   \n",
       "1  ...                          0.0   \n",
       "2  ...                          0.0   \n",
       "3  ...                          0.0   \n",
       "4  ...                          0.0   \n",
       "\n",
       "   Химикалии и смежные вещества, не классифицированные ранее  Химчистки  \\\n",
       "0                                                0.0                0.0   \n",
       "1                                                0.0                0.0   \n",
       "2                                                0.0                0.0   \n",
       "3                                                0.0                0.0   \n",
       "4                                                0.0                0.0   \n",
       "\n",
       "   Ценные бумаги: брокеры/дилеры  Центры здоровья  Цифровые товары, игры  \\\n",
       "0                            0.0              0.0                    0.0   \n",
       "1                            0.0              0.0                    0.0   \n",
       "2                            0.0              0.0                    0.0   \n",
       "3                            0.0              0.0                    0.0   \n",
       "4                            0.0              0.0                    0.0   \n",
       "\n",
       "   Школы — бизнес и секретарей  Штрафы  \\\n",
       "0                          0.0     0.0   \n",
       "1                          0.0     0.0   \n",
       "2                          0.0     0.0   \n",
       "3                          0.0     0.0   \n",
       "4                          0.0     0.0   \n",
       "\n",
       "   Штучные товары, галантерея и другие текстильные товары  \\\n",
       "0                                                0.0        \n",
       "1                                                0.0        \n",
       "2                                                0.0        \n",
       "3                                                0.0        \n",
       "4                                                0.0        \n",
       "\n",
       "   Электрические части и оборудование  \n",
       "0                                 0.0  \n",
       "1                                 0.0  \n",
       "2                                 0.0  \n",
       "3                                 0.0  \n",
       "4                                 0.0  \n",
       "\n",
       "[5 rows x 186 columns]"
      ]
     },
     "execution_count": 10,
     "metadata": {},
     "output_type": "execute_result"
    }
   ],
   "source": [
    "df_agregate = df_gender.merge(pd.pivot_table(df_transactions, index=\"user_id\", values='value', columns=['type'], aggfunc=np.sum, fill_value=0), on=\"user_id\")\n",
    "\n",
    "df_agregate.head()"
   ]
  },
  {
   "attachments": {},
   "cell_type": "markdown",
   "id": "ad21c6ef",
   "metadata": {},
   "source": [
    "## Обучение и валидация модели [5 баллов]"
   ]
  },
  {
   "attachments": {},
   "cell_type": "markdown",
   "id": "39a87010",
   "metadata": {},
   "source": [
    "Аналогично предыдущей части разделите данные на обучающую и тестовую выборку (80%/20%), обучите модель на дефолтных параметрах и оцените качество."
   ]
  },
  {
   "cell_type": "code",
   "execution_count": 11,
   "id": "8aa668ce",
   "metadata": {},
   "outputs": [],
   "source": [
    "train_df, test_df = train_test_split(df_agregate, test_size=0.2, shuffle=True, random_state=42)\n",
    "train_df = train_df.dropna()\n",
    "test_df = test_df.dropna()"
   ]
  },
  {
   "cell_type": "code",
   "execution_count": 12,
   "id": "c4441952",
   "metadata": {},
   "outputs": [],
   "source": [
    "X_train = train_df.drop([\"gender\", \"user_id\"], axis=1)\n",
    "y_train = train_df[\"gender\"]\n",
    "\n",
    "X_test = test_df.drop([\"gender\", \"user_id\"], axis=1)\n",
    "y_test = test_df[\"gender\"]"
   ]
  },
  {
   "cell_type": "code",
   "execution_count": 13,
   "id": "94683ded",
   "metadata": {},
   "outputs": [],
   "source": [
    "model = LinearRegression()\n",
    "\n",
    "model.fit(X_train, y_train)\n",
    "\n",
    "p_train_pred = model.predict(X_train)\n",
    "p_test_pred = model.predict(X_test)\n",
    "\n",
    "y_train_pred = 1*(p_train_pred >= 0.5) \n",
    "y_test_pred = 1*(p_test_pred >= 0.5) "
   ]
  },
  {
   "cell_type": "code",
   "execution_count": 14,
   "id": "ec9628e6",
   "metadata": {},
   "outputs": [
    {
     "name": "stdout",
     "output_type": "stream",
     "text": [
      "Train metrics:\n",
      "ROC_AUC:  0.8071310780862103\n",
      "Accurancy:  0.7036205864751646\n",
      "Precision:  0.821522309711286\n",
      "Recall:  0.42283012495778455\n",
      "\n",
      "Test metrics:\n",
      "ROC_AUC:  0.7803118344141116\n",
      "Accurancy:  0.680622009569378\n",
      "Precision:  0.816711590296496\n",
      "Recall:  0.3940182054616385\n"
     ]
    }
   ],
   "source": [
    "print(\"Train metrics:\")\n",
    "print(\"ROC_AUC: \", roc_auc_score(y_train, p_train_pred))\n",
    "print(\"Accurancy: \", accuracy_score(y_train_pred, y_train))\n",
    "print(\"Precision: \", precision_score(y_train, y_train_pred))\n",
    "print(\"Recall: \", recall_score(y_train, y_train_pred))\n",
    "print()\n",
    "print(\"Test metrics:\")\n",
    "print(\"ROC_AUC: \", roc_auc_score(y_test, p_test_pred))\n",
    "print(\"Accurancy: \", accuracy_score(y_test_pred, y_test))\n",
    "print(\"Precision: \", precision_score(y_test, y_test_pred))\n",
    "print(\"Recall: \", recall_score(y_test, y_test_pred))"
   ]
  },
  {
   "attachments": {},
   "cell_type": "markdown",
   "id": "8f67c1fb",
   "metadata": {},
   "source": [
    "### Вывод "
   ]
  },
  {
   "attachments": {},
   "cell_type": "markdown",
   "id": "3988e390",
   "metadata": {},
   "source": [
    "Изменилось ли качество модели? Почему?\n",
    "\n",
    "__Ваш вывод:__"
   ]
  },
  {
   "attachments": {},
   "cell_type": "markdown",
   "id": "39eb4d89",
   "metadata": {},
   "source": [
    "# Часть 3: что мы всё про данные? Давайте про модель \n",
    "# [макс 30 баллов]"
   ]
  },
  {
   "attachments": {},
   "cell_type": "markdown",
   "id": "132aaef6",
   "metadata": {},
   "source": [
    "Ранее мы работали только над подготовкой обучающей выборки. Давайте теперь попробуем изменить модель, чтобы добиться наилучшего качества. \n",
    "\n",
    "Входные данные для этой части - выборка с предыдущей."
   ]
  },
  {
   "attachments": {},
   "cell_type": "markdown",
   "id": "381b15b7",
   "metadata": {},
   "source": [
    "## Нормирование данных [5 баллов] "
   ]
  },
  {
   "attachments": {},
   "cell_type": "markdown",
   "id": "0a268750",
   "metadata": {},
   "source": [
    "Как мы знаем, линейные модели любят нормированные данные.\n",
    "\n",
    "Приведите значения всех признаков в отрезок [0, 1]\n",
    "\n",
    "__Замечание__: если вы используете метод, который удаляет информацию о названиях колонок - сохраните эти названия в отдельную переменную, вам это потом может понадобиться."
   ]
  },
  {
   "cell_type": "code",
   "execution_count": 15,
   "id": "7c34f5de",
   "metadata": {},
   "outputs": [
    {
     "data": {
      "text/html": [
       "<div>\n",
       "<style scoped>\n",
       "    .dataframe tbody tr th:only-of-type {\n",
       "        vertical-align: middle;\n",
       "    }\n",
       "\n",
       "    .dataframe tbody tr th {\n",
       "        vertical-align: top;\n",
       "    }\n",
       "\n",
       "    .dataframe thead th {\n",
       "        text-align: right;\n",
       "    }\n",
       "</style>\n",
       "<table border=\"1\" class=\"dataframe\">\n",
       "  <thead>\n",
       "    <tr style=\"text-align: right;\">\n",
       "      <th></th>\n",
       "      <th>user_id</th>\n",
       "      <th>gender</th>\n",
       "      <th>Авиалинии, авиакомпании</th>\n",
       "      <th>Авиалинии, авиакомпании, нигде более не классифицированные</th>\n",
       "      <th>Автобусные линии</th>\n",
       "      <th>Автозапчасти и аксессуары</th>\n",
       "      <th>Автоматизированные бензозаправки</th>\n",
       "      <th>Автомойки</th>\n",
       "      <th>Автошины</th>\n",
       "      <th>Агентства по автотранспортным перевозкам, местные/дальные автогрузоперевозки, компании попереезду и хранению, местная доставка</th>\n",
       "      <th>...</th>\n",
       "      <th>Фотостудии, фотолаборатории</th>\n",
       "      <th>Химикалии и смежные вещества, не классифицированные ранее</th>\n",
       "      <th>Химчистки</th>\n",
       "      <th>Ценные бумаги: брокеры/дилеры</th>\n",
       "      <th>Центры здоровья</th>\n",
       "      <th>Цифровые товары, игры</th>\n",
       "      <th>Школы — бизнес и секретарей</th>\n",
       "      <th>Штрафы</th>\n",
       "      <th>Штучные товары, галантерея и другие текстильные товары</th>\n",
       "      <th>Электрические части и оборудование</th>\n",
       "    </tr>\n",
       "  </thead>\n",
       "  <tbody>\n",
       "    <tr>\n",
       "      <th>0</th>\n",
       "      <td>6740969</td>\n",
       "      <td>1.0</td>\n",
       "      <td>0.0</td>\n",
       "      <td>0.0</td>\n",
       "      <td>0.0</td>\n",
       "      <td>0.005176</td>\n",
       "      <td>0.0</td>\n",
       "      <td>0.0</td>\n",
       "      <td>0.0</td>\n",
       "      <td>0.0</td>\n",
       "      <td>...</td>\n",
       "      <td>0.0</td>\n",
       "      <td>0.0</td>\n",
       "      <td>0.0</td>\n",
       "      <td>0.0</td>\n",
       "      <td>0.0</td>\n",
       "      <td>0.0</td>\n",
       "      <td>0.0</td>\n",
       "      <td>0.0</td>\n",
       "      <td>0.0</td>\n",
       "      <td>0.0</td>\n",
       "    </tr>\n",
       "    <tr>\n",
       "      <th>1</th>\n",
       "      <td>36599781</td>\n",
       "      <td>0.0</td>\n",
       "      <td>0.0</td>\n",
       "      <td>0.0</td>\n",
       "      <td>0.0</td>\n",
       "      <td>0.011176</td>\n",
       "      <td>0.0</td>\n",
       "      <td>0.0</td>\n",
       "      <td>0.0</td>\n",
       "      <td>0.0</td>\n",
       "      <td>...</td>\n",
       "      <td>0.0</td>\n",
       "      <td>0.0</td>\n",
       "      <td>0.0</td>\n",
       "      <td>0.0</td>\n",
       "      <td>0.0</td>\n",
       "      <td>0.0</td>\n",
       "      <td>0.0</td>\n",
       "      <td>0.0</td>\n",
       "      <td>0.0</td>\n",
       "      <td>0.0</td>\n",
       "    </tr>\n",
       "    <tr>\n",
       "      <th>2</th>\n",
       "      <td>91453656</td>\n",
       "      <td>1.0</td>\n",
       "      <td>0.0</td>\n",
       "      <td>0.0</td>\n",
       "      <td>0.0</td>\n",
       "      <td>0.000000</td>\n",
       "      <td>0.0</td>\n",
       "      <td>0.0</td>\n",
       "      <td>0.0</td>\n",
       "      <td>0.0</td>\n",
       "      <td>...</td>\n",
       "      <td>0.0</td>\n",
       "      <td>0.0</td>\n",
       "      <td>0.0</td>\n",
       "      <td>0.0</td>\n",
       "      <td>0.0</td>\n",
       "      <td>0.0</td>\n",
       "      <td>0.0</td>\n",
       "      <td>0.0</td>\n",
       "      <td>0.0</td>\n",
       "      <td>0.0</td>\n",
       "    </tr>\n",
       "    <tr>\n",
       "      <th>3</th>\n",
       "      <td>17431962</td>\n",
       "      <td>1.0</td>\n",
       "      <td>0.0</td>\n",
       "      <td>0.0</td>\n",
       "      <td>0.0</td>\n",
       "      <td>0.000000</td>\n",
       "      <td>0.0</td>\n",
       "      <td>0.0</td>\n",
       "      <td>0.0</td>\n",
       "      <td>0.0</td>\n",
       "      <td>...</td>\n",
       "      <td>0.0</td>\n",
       "      <td>0.0</td>\n",
       "      <td>0.0</td>\n",
       "      <td>0.0</td>\n",
       "      <td>0.0</td>\n",
       "      <td>0.0</td>\n",
       "      <td>0.0</td>\n",
       "      <td>0.0</td>\n",
       "      <td>0.0</td>\n",
       "      <td>0.0</td>\n",
       "    </tr>\n",
       "    <tr>\n",
       "      <th>4</th>\n",
       "      <td>72568668</td>\n",
       "      <td>1.0</td>\n",
       "      <td>0.0</td>\n",
       "      <td>0.0</td>\n",
       "      <td>0.0</td>\n",
       "      <td>0.000000</td>\n",
       "      <td>0.0</td>\n",
       "      <td>0.0</td>\n",
       "      <td>0.0</td>\n",
       "      <td>0.0</td>\n",
       "      <td>...</td>\n",
       "      <td>0.0</td>\n",
       "      <td>0.0</td>\n",
       "      <td>0.0</td>\n",
       "      <td>0.0</td>\n",
       "      <td>0.0</td>\n",
       "      <td>0.0</td>\n",
       "      <td>0.0</td>\n",
       "      <td>0.0</td>\n",
       "      <td>0.0</td>\n",
       "      <td>0.0</td>\n",
       "    </tr>\n",
       "  </tbody>\n",
       "</table>\n",
       "<p>5 rows × 186 columns</p>\n",
       "</div>"
      ],
      "text/plain": [
       "    user_id  gender  Авиалинии, авиакомпании  \\\n",
       "0   6740969     1.0                      0.0   \n",
       "1  36599781     0.0                      0.0   \n",
       "2  91453656     1.0                      0.0   \n",
       "3  17431962     1.0                      0.0   \n",
       "4  72568668     1.0                      0.0   \n",
       "\n",
       "   Авиалинии, авиакомпании, нигде более не классифицированные  \\\n",
       "0                                                0.0            \n",
       "1                                                0.0            \n",
       "2                                                0.0            \n",
       "3                                                0.0            \n",
       "4                                                0.0            \n",
       "\n",
       "   Автобусные линии  Автозапчасти и аксессуары  \\\n",
       "0               0.0                   0.005176   \n",
       "1               0.0                   0.011176   \n",
       "2               0.0                   0.000000   \n",
       "3               0.0                   0.000000   \n",
       "4               0.0                   0.000000   \n",
       "\n",
       "   Автоматизированные бензозаправки  Автомойки  Автошины  \\\n",
       "0                               0.0        0.0       0.0   \n",
       "1                               0.0        0.0       0.0   \n",
       "2                               0.0        0.0       0.0   \n",
       "3                               0.0        0.0       0.0   \n",
       "4                               0.0        0.0       0.0   \n",
       "\n",
       "   Агентства по автотранспортным перевозкам, местные/дальные автогрузоперевозки, компании попереезду и хранению, местная доставка  \\\n",
       "0                                                0.0                                                                                \n",
       "1                                                0.0                                                                                \n",
       "2                                                0.0                                                                                \n",
       "3                                                0.0                                                                                \n",
       "4                                                0.0                                                                                \n",
       "\n",
       "   ...  Фотостудии, фотолаборатории  \\\n",
       "0  ...                          0.0   \n",
       "1  ...                          0.0   \n",
       "2  ...                          0.0   \n",
       "3  ...                          0.0   \n",
       "4  ...                          0.0   \n",
       "\n",
       "   Химикалии и смежные вещества, не классифицированные ранее  Химчистки  \\\n",
       "0                                                0.0                0.0   \n",
       "1                                                0.0                0.0   \n",
       "2                                                0.0                0.0   \n",
       "3                                                0.0                0.0   \n",
       "4                                                0.0                0.0   \n",
       "\n",
       "   Ценные бумаги: брокеры/дилеры  Центры здоровья  Цифровые товары, игры  \\\n",
       "0                            0.0              0.0                    0.0   \n",
       "1                            0.0              0.0                    0.0   \n",
       "2                            0.0              0.0                    0.0   \n",
       "3                            0.0              0.0                    0.0   \n",
       "4                            0.0              0.0                    0.0   \n",
       "\n",
       "   Школы — бизнес и секретарей  Штрафы  \\\n",
       "0                          0.0     0.0   \n",
       "1                          0.0     0.0   \n",
       "2                          0.0     0.0   \n",
       "3                          0.0     0.0   \n",
       "4                          0.0     0.0   \n",
       "\n",
       "   Штучные товары, галантерея и другие текстильные товары  \\\n",
       "0                                                0.0        \n",
       "1                                                0.0        \n",
       "2                                                0.0        \n",
       "3                                                0.0        \n",
       "4                                                0.0        \n",
       "\n",
       "   Электрические части и оборудование  \n",
       "0                                 0.0  \n",
       "1                                 0.0  \n",
       "2                                 0.0  \n",
       "3                                 0.0  \n",
       "4                                 0.0  \n",
       "\n",
       "[5 rows x 186 columns]"
      ]
     },
     "execution_count": 15,
     "metadata": {},
     "output_type": "execute_result"
    }
   ],
   "source": [
    "df_agregate_changed = df_agregate.div(df_agregate.drop([\"gender\", \"user_id\"], axis=1).sum(axis=1), axis=0)\n",
    "df_agregate[df_transactions.type.unique()] = df_agregate_changed[df_transactions.type.unique()]\n",
    "\n",
    "df_agregate.head()"
   ]
  },
  {
   "cell_type": "code",
   "execution_count": 16,
   "id": "4f6b8b8f",
   "metadata": {},
   "outputs": [],
   "source": [
    "train_df, test_df = train_test_split(df_agregate, test_size=0.2, shuffle=True, random_state=42)\n",
    "train_df = train_df.dropna()\n",
    "test_df = test_df.dropna()\n",
    "\n",
    "X_train = df_agregate.drop([\"gender\", \"user_id\"], axis=1)\n",
    "y_train = df_agregate[\"gender\"]\n",
    "\n",
    "X_test = test_df.drop([\"gender\", \"user_id\"], axis=1)\n",
    "y_test = test_df[\"gender\"]"
   ]
  },
  {
   "attachments": {},
   "cell_type": "markdown",
   "id": "7adad023",
   "metadata": {},
   "source": [
    "## Подбор параметров [15 баллов]"
   ]
  },
  {
   "attachments": {},
   "cell_type": "markdown",
   "id": "e3a63257",
   "metadata": {},
   "source": [
    "Подберите наилучшие параметры для модели линейной регрессии. Важные уточнения:\n",
    "\n",
    "* используйте перебор по сетке\n",
    "* в качестве метрики используйте ROC AUC\n",
    "* для оценки параметров делайте кросс-валидацию на 4 фолдах\n",
    "\n",
    "__Замечание__: у линейной регрессии множество доступных значений для некоторых параметров зависит от метода оптимизации (solver). Например, lbfgs-алгоритм не подерживает l1-регуляризацию.\n",
    "\n",
    "Поэтому действуйте шагами: сначала подберите solver, а потом уже переберите доступные для него параметры."
   ]
  },
  {
   "cell_type": "code",
   "execution_count": 17,
   "id": "8198a4c5",
   "metadata": {
    "scrolled": false
   },
   "outputs": [
    {
     "data": {
      "text/plain": [
       "'liblinear'"
      ]
     },
     "execution_count": 17,
     "metadata": {},
     "output_type": "execute_result"
    }
   ],
   "source": [
    "svc = LogisticRegression()\n",
    "parameters = {'solver': [\"lbfgs\", \"liblinear\", \"newton-cg\", \"newton-cholesky\", \"sag\", \"saga\"]}\n",
    "\n",
    "grid  = GridSearchCV(svc, parameters, cv=5, scoring=\"roc_auc\")\n",
    "grid.fit(X_train, y_train)\n",
    "\n",
    "grid.best_params_[\"solver\"]"
   ]
  },
  {
   "cell_type": "code",
   "execution_count": 18,
   "id": "c71a5c07",
   "metadata": {},
   "outputs": [
    {
     "name": "stdout",
     "output_type": "stream",
     "text": [
      "l2 1000.0\n"
     ]
    }
   ],
   "source": [
    "svc = LogisticRegression(solver=\"liblinear\")\n",
    "parameters = {'penalty': ['l1', 'l2'],\n",
    "    \"C\": [1e0, 1e1, 1e2, 1e3, 1e4, 1e5]\n",
    "}\n",
    "\n",
    "grid  = GridSearchCV(svc, parameters, cv=5, scoring=\"roc_auc\")\n",
    "grid.fit(X_train, y_train)\n",
    "\n",
    "print(grid.best_params_[\"penalty\"], grid.best_params_[\"C\"])"
   ]
  },
  {
   "attachments": {},
   "cell_type": "markdown",
   "id": "d6c296ef",
   "metadata": {},
   "source": [
    "Оцените качество лучшей модели на тестовых данных аналогично предыдущим задачам."
   ]
  },
  {
   "cell_type": "code",
   "execution_count": 19,
   "id": "a264b6ee",
   "metadata": {},
   "outputs": [
    {
     "name": "stdout",
     "output_type": "stream",
     "text": [
      "Train metrics:\n",
      "ROC_AUC:  0.7325526311824181\n",
      "Accurancy:  0.7444949736716132\n",
      "Precision:  0.7624218492925304\n",
      "Recall:  0.6211796246648793\n",
      "\n",
      "Test metrics:\n",
      "ROC_AUC:  0.7256392864703265\n",
      "Accurancy:  0.7356459330143541\n",
      "Precision:  0.7738693467336684\n",
      "Recall:  0.6007802340702211\n"
     ]
    }
   ],
   "source": [
    "model = LogisticRegression(solver=\"liblinear\", penalty=\"l2\", C=1000)\n",
    "\n",
    "model.fit(X_train, y_train)\n",
    "\n",
    "p_train_pred = model.predict(X_train)\n",
    "p_test_pred = model.predict(X_test)\n",
    "\n",
    "y_train_pred = 1*(p_train_pred >= 0.5) \n",
    "y_test_pred = 1*(p_test_pred >= 0.5) \n",
    "\n",
    "print(\"Train metrics:\")\n",
    "print(\"ROC_AUC: \", roc_auc_score(y_train, p_train_pred))\n",
    "print(\"Accurancy: \", accuracy_score(y_train_pred, y_train))\n",
    "print(\"Precision: \", precision_score(y_train, y_train_pred))\n",
    "print(\"Recall: \", recall_score(y_train, y_train_pred))\n",
    "print()\n",
    "print(\"Test metrics:\")\n",
    "print(\"ROC_AUC: \", roc_auc_score(y_test, p_test_pred))\n",
    "print(\"Accurancy: \", accuracy_score(y_test_pred, y_test))\n",
    "print(\"Precision: \", precision_score(y_test, y_test_pred))\n",
    "print(\"Recall: \", recall_score(y_test, y_test_pred))"
   ]
  },
  {
   "attachments": {},
   "cell_type": "markdown",
   "id": "a5f49648",
   "metadata": {},
   "source": [
    "Получилось ли добиться лучше качества при подборе параметров?\n",
    "Почему так? \n",
    "\n",
    "Для чего мы использовали одновременно кросс-валидацию и отложенную тестовую выборку?\n",
    "\n",
    "__Ваш вывод__:"
   ]
  },
  {
   "attachments": {},
   "cell_type": "markdown",
   "id": "4db51ec9",
   "metadata": {},
   "source": [
    "## Подбор отсечения [5 баллов]"
   ]
  },
  {
   "attachments": {},
   "cell_type": "markdown",
   "id": "9b9d5678",
   "metadata": {},
   "source": [
    "Ранее мы работали или с вероятностями из модели или с метками, полученных при отсечении по веростности с порогом 0.5.\n",
    "\n",
    "Стоит сказать, что порог 0.5 для разделения классов не всегда самый лучший. Часто нам нужно так подобрать порог, чтобы удовлетворить наши требования по точности и полноте.\n",
    "\n",
    "Давайте подберём порог, который максимизирует F_beta меру при условии, что нам полнота в 5 раз важнее точности.\n",
    "\n",
    "Вычислите наилучший порог и нарисуйте график зависимости этой метрики от порога разделения."
   ]
  },
  {
   "cell_type": "code",
   "execution_count": 20,
   "id": "6133e980",
   "metadata": {},
   "outputs": [],
   "source": [
    "# Ваш код здесь"
   ]
  },
  {
   "attachments": {},
   "cell_type": "markdown",
   "id": "9692dde3",
   "metadata": {},
   "source": [
    "## Интерпретация модели [5 баллов]"
   ]
  },
  {
   "attachments": {},
   "cell_type": "markdown",
   "id": "fda297e1",
   "metadata": {},
   "source": [
    "Часто нам хочется интерпритировать предсказания модели - понять, как наши признаки влияют на её ответ.\n",
    "В случае сложных моделей сделать это не просто - чем сложнее модель, тем более сложные закономерности она извлекает и тем тяжелее нам их понять.\n",
    "\n",
    "Но в случае линейной регресии это просто сделать, посмотрев на её обучаемые параметры (вспоминайте!).\n",
    "\n",
    "Получите список признаков, которые увеличивают вероятность метки 0.\n",
    "Аналогично для метки 1."
   ]
  },
  {
   "cell_type": "code",
   "execution_count": 21,
   "id": "2625f3ef",
   "metadata": {
    "scrolled": false
   },
   "outputs": [],
   "source": [
    "# Ваш код здесь"
   ]
  },
  {
   "cell_type": "code",
   "execution_count": 22,
   "id": "3f0d0279",
   "metadata": {},
   "outputs": [],
   "source": [
    "# Ваш код здесь"
   ]
  },
  {
   "attachments": {},
   "cell_type": "markdown",
   "id": "93723beb",
   "metadata": {},
   "source": [
    "# Часть 4: ва-банк / пространство для творчества [макс 30 баллов]"
   ]
  },
  {
   "attachments": {},
   "cell_type": "markdown",
   "id": "97dc0173",
   "metadata": {},
   "source": [
    "Добейтесь максимального качества, больше качество - больше баллов.\n",
    "\n",
    "Стратегия подготовки данных и обучения модели на ваше усмотрение.\n",
    "\n",
    "Условия:\n",
    "* Оценка на отложенной тестовой группе пользователей, использовавшейся в прошлых пунктах (20%)\n",
    "* В качестве метрики используйте ROC_AUC\n",
    "\n",
    "__Замечание__: \n",
    "\n",
    "Ответа на вопрос \"какое нужно качество для максимального балла?\" не будет.\n",
    "\n",
    "Используйте все свои знания, чтобы добиться наилучшего результата."
   ]
  },
  {
   "cell_type": "code",
   "execution_count": 23,
   "id": "e442c16f",
   "metadata": {},
   "outputs": [],
   "source": [
    "# Ваш код здесь"
   ]
  }
 ],
 "metadata": {
  "kernelspec": {
   "display_name": "Python 3 (ipykernel)",
   "language": "python",
   "name": "python3"
  },
  "language_info": {
   "codemirror_mode": {
    "name": "ipython",
    "version": 3
   },
   "file_extension": ".py",
   "mimetype": "text/x-python",
   "name": "python",
   "nbconvert_exporter": "python",
   "pygments_lexer": "ipython3",
   "version": "3.10.11"
  }
 },
 "nbformat": 4,
 "nbformat_minor": 5
}
