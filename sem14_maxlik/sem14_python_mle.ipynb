{
 "cells": [
  {
   "cell_type": "markdown",
   "metadata": {},
   "source": [
    "<center>\n",
    "<img src=\"https://telegra.ph/file/76c3a3888f46b2faf76b5.jpg\" width=\"400\"> \n",
    "</center>\n",
    "\n",
    "\n",
    "#  Максимально правдоподобный семинар"
   ]
  },
  {
   "cell_type": "code",
   "execution_count": null,
   "metadata": {},
   "outputs": [],
   "source": [
    "import numpy as np\n",
    "import pandas as pd\n",
    "\n",
    "from scipy import stats \n",
    "from scipy.optimize import minimize\n",
    "\n",
    "import seaborn as sns\n",
    "import matplotlib.pyplot as plt"
   ]
  },
  {
   "cell_type": "markdown",
   "metadata": {},
   "source": [
    "# 1. Фрекен Бок\n",
    "\n",
    "[Как известно](https://www.livelib.ru/quote/305456-malysh-i-karlson-kotoryj-zhivet-na-kryshe-astrid-lindgren), Фрекен Бок пьёт коньяк по утрам. У нас даже есть дневные данные (в граммах):"
   ]
  },
  {
   "cell_type": "code",
   "execution_count": null,
   "metadata": {},
   "outputs": [],
   "source": [
    "x = [3.2, 7.9, 5.4, 4.9, 6.2, 4.3]"
   ]
  },
  {
   "cell_type": "markdown",
   "metadata": {},
   "source": [
    "__а)__ Предполагая, что $x_i$ независимы и нормальны $N(\\mu, \\sigma^2)$ выпишем функцию правдоподобия.\n",
    "\n",
    "\n",
    "$$\n",
    "f(x) = \\frac{1}{\\sqrt{2 \\pi \\sigma^2}} \\cdot e^{-\\frac{(x - \\mu)^2}{2 \\sigma^2}}\n",
    "$$\n",
    "\n",
    "\n"
   ]
  },
  {
   "cell_type": "markdown",
   "metadata": {},
   "source": [
    "$$\n",
    "L(\\mu, \\sigma^2 \\mid x_1, \\ldots, x_n) =  \\frac{1}{(2 \\pi \\sigma^2)^{\\frac{n}{2}}} \\cdot e^{- \\sum_{i=1}^n \\frac{(x_i - \\mu)^2}{2 \\sigma^2}}\n",
    "$$"
   ]
  },
  {
   "cell_type": "markdown",
   "metadata": {},
   "source": [
    "$$\n",
    "\\ln L(\\mu, \\sigma^2 \\mid x_1, \\ldots, x_n) \\propto  -0.5 \\cdot n \\cdot \\ln  \\sigma^2 - \\sum_{i=1}^n \\frac{(x_i - \\mu)^2}{2 \\sigma^2} \\to \\max_{\\mu, \\sigma^2}\n",
    "$$"
   ]
  },
  {
   "cell_type": "markdown",
   "metadata": {},
   "source": [
    "$\\propto$ - равенство с точностью до константы"
   ]
  },
  {
   "cell_type": "markdown",
   "metadata": {},
   "source": [
    "Чтобы гарантировать положительность параметра $\\sigma^2$ функция у нас будет зависеть от вектора параметров $\\theta$, причем $\\theta_1 = \\mu$, а $\\theta_2 = \\ln \\sigma^2$."
   ]
  },
  {
   "cell_type": "markdown",
   "metadata": {},
   "source": [
    "Реализуйте функцию правдоподобия."
   ]
  },
  {
   "cell_type": "code",
   "execution_count": null,
   "metadata": {},
   "outputs": [],
   "source": [
    "def lnL(theta, x):\n",
    "    # your code here\n",
    "    pass\n",
    "    \n",
    "lnL([4, 0.2], x)"
   ]
  },
  {
   "cell_type": "markdown",
   "metadata": {},
   "source": [
    "__б)__ Оцените неизвестные параметры с помощью метода `minimize` из `scipy.optimize`"
   ]
  },
  {
   "cell_type": "code",
   "execution_count": null,
   "metadata": {},
   "outputs": [],
   "source": [
    "#your code here"
   ]
  },
  {
   "cell_type": "markdown",
   "metadata": {},
   "source": [
    "__в)__ Получите тот же результат используя встроенный метод `stats.norm.fit`:"
   ]
  },
  {
   "cell_type": "code",
   "execution_count": null,
   "metadata": {
    "scrolled": true
   },
   "outputs": [],
   "source": [
    "#your code here"
   ]
  },
  {
   "cell_type": "markdown",
   "metadata": {},
   "source": [
    "__г)__ Постройте $95\\%$ доверительный интервал для $\\mu$"
   ]
  },
  {
   "cell_type": "code",
   "execution_count": null,
   "metadata": {},
   "outputs": [],
   "source": [
    "#your code here"
   ]
  },
  {
   "cell_type": "markdown",
   "metadata": {},
   "source": [
    "__д)__ Проверьте гипотезу о том, что $\\mu = 1$ с помощью теста отношения правдоподобий. "
   ]
  },
  {
   "cell_type": "code",
   "execution_count": null,
   "metadata": {},
   "outputs": [],
   "source": [
    "#your code here"
   ]
  },
  {
   "cell_type": "markdown",
   "metadata": {},
   "source": [
    "__е)__ Проверьте гипотезу о том, что $\\mu = 1$, а $\\sigma^2 = 2$ с помощью теста отношения правдоподобий."
   ]
  },
  {
   "cell_type": "code",
   "execution_count": null,
   "metadata": {},
   "outputs": [],
   "source": [
    "#your code here"
   ]
  },
  {
   "cell_type": "markdown",
   "metadata": {},
   "source": [
    "# 2.  Пуассоновские призраки\n",
    "\n",
    "<br>\n",
    "\n",
    "<center>\n",
    "<img src=\"https://pbs.twimg.com/media/DqWmCg9X4AAkl0n.jpg\" height=\"200\" width=\"350\"> \n",
    "</center>\n",
    "\n",
    "А ещё Фрекен-Бок иногда видит привидения! Данные по количеству привидений у нас тоже есть :)"
   ]
  },
  {
   "cell_type": "code",
   "execution_count": null,
   "metadata": {},
   "outputs": [],
   "source": [
    "y =  [1, 2, 0, 0, 2, 0]"
   ]
  },
  {
   "cell_type": "markdown",
   "metadata": {},
   "source": [
    "Предположим, что количество привидений имеет пуассоновское распределение с параметром $\\lambda$. \n",
    "\n",
    "__а)__ Оцените $\\lambda$ с помощью ММП:\n",
    "\n",
    "Вероятность, что случайная величина $X$ примет значение $k$: \n",
    "\n",
    "$$\n",
    "\\mathbb{P}(X = k) = \\frac{e^{-\\lambda} \\cdot \\lambda^k}{k!}\n",
    "$$"
   ]
  },
  {
   "cell_type": "markdown",
   "metadata": {},
   "source": [
    "$$\n",
    "L(\\lambda \\mid x_1, \\ldots x_n) = \\frac{e^{-\\lambda} \\cdot \\lambda^{\n",
    "x_1}}{x_1!} \\cdot \\ldots \\cdot \\frac{e^{-\\lambda} \\cdot \\lambda^{x_n}}{x_n!}\n",
    "$$"
   ]
  },
  {
   "cell_type": "markdown",
   "metadata": {},
   "source": [
    "$$\n",
    "\\ln L(\\lambda \\mid x_1, \\ldots x_n) = \\cdot n + \\ln \\lambda \\cdot \\sum_{i=1}^n x_i - \\sum_{i=1}^n x_i!  \\propto - \\lambda \\cdot n + \\ln \\lambda \\cdot \\sum_{i=1}^n x_i \\to \\max_{\\lambda}\n",
    "$$\n",
    "\n",
    "$\\propto$ - равенство с точностью до константы"
   ]
  },
  {
   "cell_type": "markdown",
   "metadata": {},
   "source": [
    "\n",
    "$$\n",
    "\\ln L(\\lambda \\mid x_1, \\ldots x_n)  \\propto  \\sum_{i=1}^n [- \\lambda + \\ln \\lambda \\cdot x_i] \\to \\max_{\\lambda}\n",
    "$$"
   ]
  },
  {
   "cell_type": "code",
   "execution_count": null,
   "metadata": {},
   "outputs": [],
   "source": [
    "def lnL(theta, y):\n",
    "    rate = np.exp(theta)\n",
    "    y = np.array(y)\n",
    "    l = -rate + np.log(rate)*y\n",
    "    return -1*np.sum(l)\n",
    "\n",
    "lnL(4, y)"
   ]
  },
  {
   "cell_type": "code",
   "execution_count": null,
   "metadata": {},
   "outputs": [],
   "source": [
    "theta_init = 0\n",
    "res = minimize(lnL, theta_init, args=y)\n",
    "res"
   ]
  },
  {
   "cell_type": "markdown",
   "metadata": {},
   "source": [
    "Предположим, что в $i$-й день интенсивность пуассоновского распределения $\\lambda_i$ связана с количеством выпитого коньяка формулой $\\lambda_i = e^{a + b \\cdot x_i}$. То есть, возможно, что Фрекен Бок видит призраков из-за коньяка. \n",
    "\n",
    "__б)__ Оцените параметры $a$ и $b$, выписав функцию правдоподобия. "
   ]
  },
  {
   "cell_type": "markdown",
   "metadata": {},
   "source": [
    "$$\n",
    "\\ln L(\\lambda \\mid x_1, \\ldots x_n)  \\propto  \\sum_{i=1}^n [- \\lambda_i + \\ln \\lambda_i \\cdot x_i] \\to \\max_{a, b}\n",
    "$$\n",
    "\n",
    "$$\n",
    "\\lambda_i = \\exp(a + b y_i)\n",
    "$$"
   ]
  },
  {
   "cell_type": "code",
   "execution_count": null,
   "metadata": {},
   "outputs": [],
   "source": [
    "fbock = pd.DataFrame({\n",
    "    'x': [3.2, 7.9, 5.4, 4.9, 6.2, 4.3], \n",
    "    'y': [1, 2, 0, 0, 2, 0]\n",
    "})"
   ]
  },
  {
   "cell_type": "code",
   "execution_count": null,
   "metadata": {},
   "outputs": [],
   "source": [
    "def lnL(theta, fbock):\n",
    "    #your code here\n",
    "    pass"
   ]
  },
  {
   "cell_type": "code",
   "execution_count": null,
   "metadata": {},
   "outputs": [],
   "source": [
    "#your code here"
   ]
  },
  {
   "cell_type": "markdown",
   "metadata": {},
   "source": [
    "__в)__ Постройте прогнозы для парметра лямбда при разном объёме выпитого коньяка."
   ]
  },
  {
   "cell_type": "code",
   "execution_count": null,
   "metadata": {},
   "outputs": [],
   "source": [
    "#your code here"
   ]
  },
  {
   "cell_type": "markdown",
   "metadata": {},
   "source": [
    "__в)__  Данная модель является довольно популярной и реализована в `statsmodels`. Она называется Пуассоновской регрессией. Оценим её встроенными методами. "
   ]
  },
  {
   "cell_type": "code",
   "execution_count": null,
   "metadata": {},
   "outputs": [],
   "source": [
    "!pip install statsmodels"
   ]
  },
  {
   "cell_type": "code",
   "execution_count": null,
   "metadata": {},
   "outputs": [],
   "source": [
    "import statsmodels.formula.api as smf"
   ]
  },
  {
   "cell_type": "code",
   "execution_count": null,
   "metadata": {},
   "outputs": [],
   "source": [
    "model = smf.poisson(data=fbock, formula=\"y ~ 1 + x\")\n",
    "model.fit().summary()"
   ]
  },
  {
   "cell_type": "markdown",
   "metadata": {},
   "source": [
    "__г)__ C помощью полученного протокола, проверим гипотезу о взаимосвязи призраков и выпитого коньяка.\n",
    "\n",
    "- Точечная оценка коэффицента перед коньяком равна $0.4170$. ММП даёт нам асимптотически нормальные оценки, то есть мы можем для проверки гипотез для коэффициента использовать $z-$тест. \n",
    "- В колонке $z$ посчитана статистика для гипотезы о равенстве коэффициента нулю (гипотеза о значимости коэффициента). Она оказалась равна $1.404$. Также для неё найдено p_value, оно оказалось равно $0.160$. То есть гипотеза о равенстве коэффициента нулю не отвергается. \n",
    "\n",
    "> Если все наши предпосылки выполнены и данные действительно имеют распределение Пуассона, коньяк никак не влияет на число увиденных приведений. \n"
   ]
  },
  {
   "cell_type": "markdown",
   "metadata": {},
   "source": [
    "# 3. Логистические призраки\n",
    "\n",
    "Предположим другую вероятностную модель. Теперь мы будем предполагать, что сам факт обнаружения хотя бы одного приведения, имеет вероятность $p_i$, зависящую от $y_i$:\n",
    "\n",
    "$$\n",
    "p_i = \\exp(a + b y_i) / (1 + \\exp(a + b y_i))\n",
    "$$\n",
    "\n",
    "__а)__ Введите дамми-переменную равную 1, если Фрекен Бок видела приведение:"
   ]
  },
  {
   "cell_type": "code",
   "execution_count": null,
   "metadata": {},
   "outputs": [],
   "source": [
    "fbock['atleast1'] = 1 * (fbock['y'] > 0)\n",
    "fbock"
   ]
  },
  {
   "cell_type": "markdown",
   "metadata": {},
   "source": [
    "__б)__ Определив лапками функцию правдоподобия, оцените $a$ и $b$:"
   ]
  },
  {
   "cell_type": "code",
   "execution_count": null,
   "metadata": {},
   "outputs": [],
   "source": [
    "def minus_lklh(theta, fbock):\n",
    "    a, b = theta # распакуем параметры для читабельности\n",
    "    p = np.exp(a + b * fbock['x']) / (1 + np.exp(a + b * fbock['x']))\n",
    "    log_probs = fbock['atleast1'] * np.log(p) + (1 - fbock['atleast1']) * np.log(1 - p)\n",
    "    lklh = np.sum(log_probs)\n",
    "    return -lklh\n",
    "\n",
    "theta_init = [0, 0]\n",
    "\n",
    "optim_res = minimize(minus_lklh, theta_init, args=fbock)\n",
    "optim_res.fun, optim_res.x"
   ]
  },
  {
   "cell_type": "markdown",
   "metadata": {},
   "source": [
    "__в)__ Оцените $a$ и $b$ с помощью `statsmodels`. Нужная модель называется `logit`."
   ]
  },
  {
   "cell_type": "code",
   "execution_count": null,
   "metadata": {},
   "outputs": [],
   "source": [
    "smf.logit(data=fbock, formula='atleast1 ~ 1 + x').fit().summary()"
   ]
  },
  {
   "cell_type": "markdown",
   "metadata": {},
   "source": [
    "Это ровно та же логистическая регрессия, что и в sklearn, но акцент в модели делается на проверке гипотез, а не на прогнозировании. \n",
    "\n",
    "> Тут семинарист затрёт вам глубокую философскую тираду про BVD, прогнозы и интерпретацию. Глубже узнать об этом он вас позовёт на ИАД или МО-1 :)"
   ]
  },
  {
   "cell_type": "markdown",
   "metadata": {},
   "source": [
    "# 4. Немного про оптимизацию"
   ]
  },
  {
   "cell_type": "markdown",
   "metadata": {},
   "source": [
    "__а)__ Найдите минимум фукнции $f(x_1, x_2) = (x_1 - 2)^2 + (x_2 - 4)^2$"
   ]
  },
  {
   "cell_type": "code",
   "execution_count": null,
   "metadata": {},
   "outputs": [],
   "source": [
    "#your code here"
   ]
  },
  {
   "cell_type": "markdown",
   "metadata": {},
   "source": [
    "Теперь добавим в функцию параметр $a$: $f(x_1, x_2) = (x_1 - 2a)^2 + (x_2 - 4)^2$\n",
    "\n",
    "__б)__ Найдите экстремум функции при $a=4$ и при $a=10$."
   ]
  },
  {
   "cell_type": "code",
   "execution_count": null,
   "metadata": {},
   "outputs": [],
   "source": [
    "#your code here"
   ]
  },
  {
   "cell_type": "markdown",
   "metadata": {},
   "source": [
    "Но иногда встречаются функции-бяки :)\n",
    "\n",
    "$f(x_1, x_2, x_3) = 0.01 (x_1 - 0.5)^2 + |x_1^2 - x_2| + |x_1^2 - x_3|$\n",
    "\n",
    "__в)__ найдите минимум этой функции устно\n",
    "\n",
    "__г*)__ найдите минимум этой функции с помощью `minimize` (автор задачи тоже не знает решения)"
   ]
  },
  {
   "cell_type": "code",
   "execution_count": null,
   "metadata": {},
   "outputs": [],
   "source": [
    "#your code here"
   ]
  },
  {
   "cell_type": "markdown",
   "metadata": {},
   "source": [
    "__д)__ нарисуйте хорошую функцию :)"
   ]
  },
  {
   "cell_type": "code",
   "execution_count": null,
   "metadata": {},
   "outputs": [],
   "source": [
    "#your code here"
   ]
  },
  {
   "cell_type": "markdown",
   "metadata": {},
   "source": [
    "  "
   ]
  }
 ],
 "metadata": {
  "kernelspec": {
   "display_name": "Python 3 (ipykernel)",
   "language": "python",
   "name": "python3"
  },
  "language_info": {
   "codemirror_mode": {
    "name": "ipython",
    "version": 3
   },
   "file_extension": ".py",
   "mimetype": "text/x-python",
   "name": "python",
   "nbconvert_exporter": "python",
   "pygments_lexer": "ipython3",
   "version": "3.10.9"
  }
 },
 "nbformat": 4,
 "nbformat_minor": 4
}
